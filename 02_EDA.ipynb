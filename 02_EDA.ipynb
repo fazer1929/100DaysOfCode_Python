{
  "nbformat": 4,
  "nbformat_minor": 0,
  "metadata": {
    "colab": {
      "name": "02_EDA",
      "provenance": [],
      "collapsed_sections": [],
      "authorship_tag": "ABX9TyPd8Y6hSWFFJGzzPRWALpBO",
      "include_colab_link": true
    },
    "kernelspec": {
      "name": "python3",
      "display_name": "Python 3"
    },
    "language_info": {
      "name": "python"
    }
  },
  "cells": [
    {
      "cell_type": "markdown",
      "metadata": {
        "id": "view-in-github",
        "colab_type": "text"
      },
      "source": [
        "<a href=\"https://colab.research.google.com/github/fazer1929/100DaysOfCode_Python/blob/main/02_EDA.ipynb\" target=\"_parent\"><img src=\"https://colab.research.google.com/assets/colab-badge.svg\" alt=\"Open In Colab\"/></a>"
      ]
    },
    {
      "cell_type": "code",
      "metadata": {
        "id": "IooXLWGPhrcm"
      },
      "source": [
        "from google.colab import drive \n",
        "drive.mount('/content/drive')"
      ],
      "execution_count": null,
      "outputs": []
    },
    {
      "cell_type": "code",
      "metadata": {
        "colab": {
          "base_uri": "https://localhost:8080/"
        },
        "id": "75tSb-aSlTg4",
        "outputId": "5da3ddd8-5cf9-476f-8f24-bef2204524e1"
      },
      "source": [
        "cd '/content/drive/MyDrive/GS_ML_CODE'"
      ],
      "execution_count": 23,
      "outputs": [
        {
          "output_type": "stream",
          "text": [
            "/content/drive/MyDrive/GS_ML_CODE\n"
          ],
          "name": "stdout"
        }
      ]
    },
    {
      "cell_type": "markdown",
      "metadata": {
        "id": "DbFABp_kn-zk"
      },
      "source": [
        "## Importing Libraries"
      ]
    },
    {
      "cell_type": "code",
      "metadata": {
        "id": "jYPkTEYmlX6F"
      },
      "source": [
        "import pandas as pd\n",
        "import numpy as np\n",
        "import tensorflow as tf\n",
        "from tensorflow import keras\n",
        "import os"
      ],
      "execution_count": 24,
      "outputs": []
    },
    {
      "cell_type": "markdown",
      "metadata": {
        "id": "gJWGwB-6oB6T"
      },
      "source": [
        "## Reading Data"
      ]
    },
    {
      "cell_type": "code",
      "metadata": {
        "id": "EI6kpZ3MntZk"
      },
      "source": [
        "mathData = pd.read_csv('student-mat.csv',sep=\";\")"
      ],
      "execution_count": 26,
      "outputs": []
    },
    {
      "cell_type": "code",
      "metadata": {
        "colab": {
          "base_uri": "https://localhost:8080/"
        },
        "id": "LuJt4r6ooKZL",
        "outputId": "49119587-f7a5-4d59-eb87-012207aec504"
      },
      "source": [
        "print(mathData.tail())\n",
        "print(mathData.school.unique())\n"
      ],
      "execution_count": 27,
      "outputs": [
        {
          "output_type": "stream",
          "text": [
            "    school sex  age address famsize Pstatus  ...  Walc  health absences  G1  G2  G3\n",
            "390     MS   M   20       U     LE3       A  ...     5       4       11   9   9   9\n",
            "391     MS   M   17       U     LE3       T  ...     4       2        3  14  16  16\n",
            "392     MS   M   21       R     GT3       T  ...     3       3        3  10   8   7\n",
            "393     MS   M   18       R     LE3       T  ...     4       5        0  11  12  10\n",
            "394     MS   M   19       U     LE3       T  ...     3       5        5   8   9   9\n",
            "\n",
            "[5 rows x 33 columns]\n",
            "['GP' 'MS']\n"
          ],
          "name": "stdout"
        }
      ]
    },
    {
      "cell_type": "markdown",
      "metadata": {
        "id": "RaukUX-rpCch"
      },
      "source": [
        "## Data Processing"
      ]
    },
    {
      "cell_type": "code",
      "metadata": {
        "colab": {
          "base_uri": "https://localhost:8080/"
        },
        "id": "CaM1loFsqZ1X",
        "outputId": "b50a3623-3fb6-4eb1-df70-74f1bccff456"
      },
      "source": [
        "# Changing Categorical Data\n",
        "mathData['school'] = mathData['school'].apply({'GP':1,'MS':1}.get)\n",
        "mathData['sex'] = mathData['sex'].apply({'F':1, 'M':2}.get)\n",
        "mathData['address'] = mathData['address'].apply({'U':1, 'R':2}.get)\n",
        "mathData['higher'] = mathData['higher'].apply({'yes':1, 'no':2}.get)\n",
        "\n",
        "\n",
        "#multi-valued\n",
        "mathData['Mjob'] = mathData['Mjob'].apply({'at_home':1, 'health':2, 'other':3, 'services':4, 'teacher':5}.get)\n",
        "mathData['Fjob'] = mathData['Fjob'].apply({'at_home':1, 'health':2, 'other':3, 'services':4, 'teacher':5}.get)\n",
        "print(mathData.head(15))"
      ],
      "execution_count": 28,
      "outputs": [
        {
          "output_type": "stream",
          "text": [
            "    school  sex  age  address famsize  ... health  absences  G1  G2  G3\n",
            "0        1    1   18        1     GT3  ...      3         6   5   6   6\n",
            "1        1    1   17        1     GT3  ...      3         4   5   5   6\n",
            "2        1    1   15        1     LE3  ...      3        10   7   8  10\n",
            "3        1    1   15        1     GT3  ...      5         2  15  14  15\n",
            "4        1    1   16        1     GT3  ...      5         4   6  10  10\n",
            "5        1    2   16        1     LE3  ...      5        10  15  15  15\n",
            "6        1    2   16        1     LE3  ...      3         0  12  12  11\n",
            "7        1    1   17        1     GT3  ...      1         6   6   5   6\n",
            "8        1    2   15        1     LE3  ...      1         0  16  18  19\n",
            "9        1    2   15        1     GT3  ...      5         0  14  15  15\n",
            "10       1    1   15        1     GT3  ...      2         0  10   8   9\n",
            "11       1    1   15        1     GT3  ...      4         4  10  12  12\n",
            "12       1    2   15        1     LE3  ...      5         2  14  14  14\n",
            "13       1    2   15        1     GT3  ...      3         2  10  10  11\n",
            "14       1    2   15        1     GT3  ...      3         0  14  16  16\n",
            "\n",
            "[15 rows x 33 columns]\n"
          ],
          "name": "stdout"
        }
      ]
    },
    {
      "cell_type": "code",
      "metadata": {
        "id": "feOk9CldquH3"
      },
      "source": [
        ""
      ],
      "execution_count": null,
      "outputs": []
    }
  ]
}